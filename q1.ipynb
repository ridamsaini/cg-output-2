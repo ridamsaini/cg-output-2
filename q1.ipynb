{
 "cells": [
  {
   "cell_type": "code",
   "execution_count": 1,
   "metadata": {},
   "outputs": [
    {
     "name": "stdout",
     "output_type": "stream",
     "text": [
      "Bottom Left Points of Rectangle: 1 2\n",
      "Height of Rectangle: 9\n",
      "Width of Rectangle: 6\n",
      "Enter number of Lines: 2\n",
      "Initial Point: 1 2\n",
      "Final Point: 4 7\n",
      "Initial Point: 3 3\n",
      "Final Point: 5 2\n"
     ]
    },
    {
     "data": {
      "image/png": "[encoded data removed]",
      "text/plain": [
       "<Figure size 432x288 with 1 Axes>"
      ]
     },
     "metadata": {
      "needs_background": "light"
     },
     "output_type": "display_data"
    },
    {
     "data": {
      "image/png": "[encoded data removed]",
      "text/plain": [
       "<Figure size 432x288 with 1 Axes>"
      ]
     },
     "metadata": {
      "needs_background": "light"
     },
     "output_type": "display_data"
    }
   ],
   "source": [
    "import matplotlib.pyplot as plt\n",
    "from numpy.random import rand\n",
    "\n",
    "\n",
    "# Code - TBRL\n",
    "TOP = 8\n",
    "BOTTOM = 4\n",
    "RIGHT = 2\n",
    "LEFT = 1\n",
    "\n",
    "def getCode(x, y):\n",
    "    code = 0\n",
    "    if x < x_min:\n",
    "        code |= LEFT\n",
    "    elif x > x_max:\n",
    "        code |= RIGHT\n",
    "    if y < y_min:\n",
    "        code |= BOTTOM\n",
    "    elif y > y_max:\n",
    "        code |= TOP\n",
    "    return code\n",
    "\n",
    "def cohenSutherlandAlgo(x1, y1, x2, y2):\n",
    "    X, Y = [], []\n",
    "    codeInitial = getCode(x1, y1)\n",
    "    codeFinal = getCode(x2, y2)\n",
    "    flag = False\n",
    "\n",
    "    while (True):\n",
    "        if (codeInitial or codeFinal) == 0:\n",
    "            flag = True\n",
    "            break\n",
    "        if (codeInitial and codeFinal) != 0:\n",
    "            break\n",
    "        if codeInitial != 0:\n",
    "            code_outside = codeInitial\n",
    "        else:\n",
    "            code_outside = codeFinal\n",
    "\n",
    "        slope = (y2 - y1) / (x2 - x1)\n",
    "        if code_outside & TOP:\n",
    "            x = x1 + (1 / slope) * (y_max - y1)\n",
    "            y = y_max\n",
    "\n",
    "        elif code_outside & BOTTOM:\n",
    "            x = x1 + (1 / slope) * (y_min - y1)\n",
    "            y = y_min\n",
    "\n",
    "        elif code_outside & RIGHT:\n",
    "            y = y1 + slope * (x_max - x1)\n",
    "            x = x_max\n",
    "\n",
    "        elif code_outside & LEFT:\n",
    "            y = y1 + slope * (x_min - x1)\n",
    "            x = x_min\n",
    "\n",
    "        if code_outside == codeInitial:\n",
    "            x1 = x\n",
    "            y1 = y\n",
    "            codeInitial = getCode(x1, y1)\n",
    "        else:\n",
    "            x2 = x\n",
    "            y2 = y\n",
    "            codeFinal = getCode(x2, y2)\n",
    "\n",
    "    if flag:\n",
    "        X.append(x1)\n",
    "        X.append(x2)\n",
    "        Y.append(y1)\n",
    "        Y.append(y2)\n",
    "\n",
    "    return X, Y\n",
    "\n",
    "\n",
    "x, y = map(int, input(\"Bottom Left Points of Rectangle: \").split())\n",
    "height = int(input(\"Height of Rectangle: \"))\n",
    "width = int(input(\"Width of Rectangle: \"))\n",
    "\n",
    "x_min, y_min = x, y\n",
    "x_max, y_max = width, height\n",
    "\n",
    "n = int(input(\"Enter number of Lines: \"))\n",
    "X, Y = [], []\n",
    "for i in range(n):\n",
    "    x1, y1 = map(int, input(\"Initial Point: \").split())\n",
    "    x2, y2 = map(int, input(\"Final Point: \").split())\n",
    "    X.append(x1)\n",
    "    X.append(x2)\n",
    "    Y.append(y1)\n",
    "    Y.append(y2)\n",
    "\n",
    "    plt.plot([x1, x2], [y1, y2])\n",
    "color = (rand(), rand(), rand())\n",
    "rect = plt.Rectangle((x, y), width, height, edgecolor=color, fill=False)\n",
    "plt.gca().add_patch(rect)\n",
    "plt.show()\n",
    "i = 0\n",
    "while i < len(X) - 1:\n",
    "    X_final, Y_final = cohenSutherlandAlgo(X[i], Y[i], X[i + 1], Y[i + 1])\n",
    "    plt.plot(X_final, Y_final)\n",
    "    i += 2\n",
    "\n",
    "color = (rand(), rand(), rand())\n",
    "rect = plt.Rectangle((x, y), width, height, edgecolor=color, fill=False)\n",
    "plt.gca().add_patch(rect)\n",
    "plt.show()"
   ]
  },
  {
   "cell_type": "code",
   "execution_count": null,
   "metadata": {},
   "outputs": [],
   "source": []
  }
 ],
 "metadata": {
  "kernelspec": {
   "display_name": "Python 3",
   "language": "python",
   "name": "python3"
  },
  "language_info": {
   "codemirror_mode": {
    "name": "ipython",
    "version": 3
   },
   "file_extension": ".py",
   "mimetype": "text/x-python",
   "name": "python",
   "nbconvert_exporter": "python",
   "pygments_lexer": "ipython3",
   "version": "3.7.7"
  }
 },
 "nbformat": 4,
 "nbformat_minor": 4
}
