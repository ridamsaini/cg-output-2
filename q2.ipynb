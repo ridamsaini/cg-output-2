{
 "cells": [
  {
   "cell_type": "code",
   "execution_count": 1,
   "metadata": {},
   "outputs": [
    {
     "name": "stdout",
     "output_type": "stream",
     "text": [
      "Enter Space Separated Coordinates: 6 2 7 7\n",
      "\n",
      "Points on the Line:\n",
      "\n",
      "(6, 2)\n",
      "(7, 7)\n",
      "\n"
     ]
    }
   ],
   "source": [
    "x1, y1, x2, y2 = map(int, input('Enter Space Separated Coordinates: ').split())\n",
    "x, y, real_y = [], [], []\n",
    "\n",
    "if y1 == y2:\n",
    "    for x_cor in range(min(x1, x2), max(x1, x2) + 1):\n",
    "        x.append(x_cor)\n",
    "        y.append(y1)\n",
    "        real_y.append(y1)\n",
    "elif x1 == x2:\n",
    "    for y_cor in range(min(y1, y2), max(y1, y2) + 1):\n",
    "        y.append(y_cor)\n",
    "        real_y.append(y_cor)\n",
    "        x.append(x1)\n",
    "else:\n",
    "    slope = (y1 - y2) / (x1 - x2)\n",
    "\n",
    "    def approx(x):\n",
    "        neg = x < 0.0\n",
    "        x = -x if neg else x\n",
    "        a = int(x)\n",
    "        b = x - a\n",
    "        a = a if b < 0.5 else a + 1\n",
    "        return -a if neg else a\n",
    "\n",
    "    for x_cor in range(min(x1, x2), max(x1, x2) + 1):\n",
    "        y_cor = (x_cor - x1) * slope + y1\n",
    "        x.append(x_cor)\n",
    "        real_y.append(y_cor)\n",
    "        y.append(approx(y_cor))\n",
    "\n",
    "print('\\nPoints on the Line:\\n')\n",
    "\n",
    "for i in range(len(x)):\n",
    "    print('({}, {})'.format(x[i], y[i]))\n",
    "print()\n",
    "\n",
    "from sys import argv\n",
    "if len(argv) == 2 and argv[1] == 'draw':\n",
    "    from matplotlib.pyplot import gcf, xlabel, ylabel, plot, show, legend\n",
    "    gcf().canvas.set_window_title('Bresenham Line Algorithm')\n",
    "    xlabel('X - Axis')\n",
    "    ylabel('Y - Axis')\n",
    "\n",
    "    plot(x, y, 's', label = 'Plotted Pixels')\n",
    "    plot(x, real_y, label = 'Original Line')\n",
    "\n",
    "    legend()\n",
    "    show()"
   ]
  },
  {
   "cell_type": "code",
   "execution_count": null,
   "metadata": {},
   "outputs": [],
   "source": []
  }
 ],
 "metadata": {
  "kernelspec": {
   "display_name": "Python 3",
   "language": "python",
   "name": "python3"
  },
  "language_info": {
   "codemirror_mode": {
    "name": "ipython",
    "version": 3
   },
   "file_extension": ".py",
   "mimetype": "text/x-python",
   "name": "python",
   "nbconvert_exporter": "python",
   "pygments_lexer": "ipython3",
   "version": "3.7.7"
  }
 },
 "nbformat": 4,
 "nbformat_minor": 4
}
