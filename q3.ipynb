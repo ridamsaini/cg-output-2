{
 "cells": [
  {
   "cell_type": "code",
   "execution_count": 1,
   "metadata": {},
   "outputs": [
    {
     "name": "stdout",
     "output_type": "stream",
     "text": [
      "Enter Center and Radius of Circle: 5 2 1\n",
      "\n",
      "Points on the Circle:\n",
      "\n",
      "(6, 2)\n",
      "(6, 2)\n",
      "(4, 2)\n",
      "(4, 2)\n",
      "(5, 3)\n",
      "(5, 1)\n",
      "(5, 3)\n",
      "(5, 1)\n",
      "\n"
     ]
    }
   ],
   "source": [
    "h, k, r = map(int, input('Enter Center and Radius of Circle: ').split())\n",
    "x, y, real_x, real_y, x_cor, y_cor = [], [], [], [], r, 0\n",
    "\n",
    "def dist(x):\n",
    "    return abs(x * x + y_cor * y_cor - r * r)\n",
    "\n",
    "from math import sqrt\n",
    "\n",
    "while x_cor >= y_cor:\n",
    "    real = sqrt(r * r - y_cor * y_cor)\n",
    "\n",
    "    x.append(h + x_cor)\n",
    "    x.append(h + x_cor)\n",
    "    x.append(h - x_cor)\n",
    "    x.append(h - x_cor)\n",
    "    x.append(h + y_cor)\n",
    "    x.append(h + y_cor)\n",
    "    x.append(h - y_cor)\n",
    "    x.append(h - y_cor)\n",
    "\n",
    "    y.append(k + y_cor)\n",
    "    y.append(k - y_cor)\n",
    "    y.append(k + y_cor)\n",
    "    y.append(k - y_cor)\n",
    "    y.append(k + x_cor)\n",
    "    y.append(k - x_cor)\n",
    "    y.append(k + x_cor)\n",
    "    y.append(k - x_cor)\n",
    "\n",
    "    real_x.append(h + real)\n",
    "    real_x.append(h + real)\n",
    "    real_x.append(h - real)\n",
    "    real_x.append(h - real)\n",
    "    real_x.append(h + y_cor)\n",
    "    real_x.append(h + y_cor)\n",
    "    real_x.append(h - y_cor)\n",
    "    real_x.append(h - y_cor)\n",
    "\n",
    "    real_y.append(k + y_cor)\n",
    "    real_y.append(k - y_cor)\n",
    "    real_y.append(k + y_cor)\n",
    "    real_y.append(k - y_cor)\n",
    "    real_y.append(k + real)\n",
    "    real_y.append(k - real)\n",
    "    real_y.append(k + real)\n",
    "    real_y.append(k - real)\n",
    "\n",
    "    y_cor += 1\n",
    "    if dist(x_cor - 1) < dist(x_cor):\n",
    "        x_cor -= 1\n",
    "\n",
    "print('\\nPoints on the Circle:\\n')\n",
    "for i in range(len(x)):\n",
    "    print('({}, {})'.format(x[i], y[i]))\n",
    "print()\n",
    "\n",
    "from sys import argv\n",
    "if len(argv) == 2 and argv[1] == 'draw':\n",
    "    from matplotlib.pyplot import gcf, xlabel, ylabel, plot, show, legend\n",
    "    gcf().canvas.set_window_title('Mid Point Circle Algorithm')\n",
    "    xlabel('X - Axis')\n",
    "    ylabel('Y - Axis')\n",
    "\n",
    "    plot(x, y, 's', label = 'Plotted Pixels')\n",
    "    plot(real_x, real_y, '.', label = 'Original Circle')\n",
    "\n",
    "    legend()\n",
    "    show()"
   ]
  },
  {
   "cell_type": "code",
   "execution_count": null,
   "metadata": {},
   "outputs": [],
   "source": []
  }
 ],
 "metadata": {
  "kernelspec": {
   "display_name": "Python 3",
   "language": "python",
   "name": "python3"
  },
  "language_info": {
   "codemirror_mode": {
    "name": "ipython",
    "version": 3
   },
   "file_extension": ".py",
   "mimetype": "text/x-python",
   "name": "python",
   "nbconvert_exporter": "python",
   "pygments_lexer": "ipython3",
   "version": "3.7.7"
  }
 },
 "nbformat": 4,
 "nbformat_minor": 4
}
